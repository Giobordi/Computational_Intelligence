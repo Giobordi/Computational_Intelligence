{
 "cells": [
  {
   "cell_type": "code",
   "execution_count": 2,
   "metadata": {},
   "outputs": [
    {
     "name": "stderr",
     "output_type": "stream",
     "text": [
      "c:\\Users\\giobo\\Documents\\Magistrale_2anno\\Computational_Intelligence\\Computational_Intelligence\\.venv_CI\\Lib\\site-packages\\tqdm\\auto.py:21: TqdmWarning: IProgress not found. Please update jupyter and ipywidgets. See https://ipywidgets.readthedocs.io/en/stable/user_install.html\n",
      "  from .autonotebook import tqdm as notebook_tqdm\n"
     ]
    }
   ],
   "source": [
    "import logging\n",
    "from pprint import pprint, pformat\n",
    "from collections import namedtuple\n",
    "import random\n",
    "from copy import deepcopy\n",
    "from math import floor, ceil, inf\n",
    "from random import randint, random, choice\n",
    "import pprint \n",
    "from tqdm.auto import tqdm\n",
    "import sys\n"
   ]
  },
  {
   "cell_type": "markdown",
   "metadata": {},
   "source": [
    "## The *Nim* and *Nimply* classes"
   ]
  },
  {
   "cell_type": "code",
   "execution_count": 3,
   "metadata": {},
   "outputs": [],
   "source": [
    "Nimply = namedtuple(\"Nimply\", \"row, num_objects\")"
   ]
  },
  {
   "cell_type": "code",
   "execution_count": 4,
   "metadata": {},
   "outputs": [],
   "source": [
    "class Nim:\n",
    "    def __init__(self, num_rows: int, k: int = None) -> None:\n",
    "        self._rows = [i * 2 + 1 for i in range(num_rows)]\n",
    "        self._k = k\n",
    "\n",
    "    def __bool__(self):\n",
    "        return sum(self._rows) > 0\n",
    "\n",
    "    def __str__(self):\n",
    "        return \"<\" + \" \".join(str(_) for _ in self._rows) + \">\"\n",
    "\n",
    "    @property\n",
    "    def rows(self) -> tuple:\n",
    "        return tuple(self._rows)\n",
    "\n",
    "    def nimming(self, ply: Nimply) -> None:\n",
    "        row, num_objects = ply\n",
    "        assert self._rows[row] >= num_objects\n",
    "        assert self._k is None or num_objects <= self._k\n",
    "        self._rows[row] -= num_objects\n"
   ]
  },
  {
   "cell_type": "markdown",
   "metadata": {},
   "source": [
    "## Sample (and silly) startegies "
   ]
  },
  {
   "cell_type": "code",
   "execution_count": 5,
   "metadata": {},
   "outputs": [],
   "source": [
    "def pure_random(state: Nim) -> Nimply:\n",
    "    \"\"\"A completely random move\"\"\"\n",
    "    row = choice([r for r, c in enumerate(state.rows) if c > 0])\n",
    "    num_objects = randint(1, state.rows[row])\n",
    "    return Nimply(row, num_objects)\n"
   ]
  },
  {
   "cell_type": "code",
   "execution_count": 6,
   "metadata": {},
   "outputs": [],
   "source": [
    "def gabriele(state: Nim) -> Nimply:\n",
    "    \"\"\"Pick always the maximum possible number of the lowest row\"\"\"\n",
    "    possible_moves = [(r, o) for r, c in enumerate(state.rows) for o in range(1, c + 1)]\n",
    "    return Nimply(*max(possible_moves, key=lambda m: (-m[0], m[1])))\n"
   ]
  },
  {
   "cell_type": "code",
   "execution_count": 7,
   "metadata": {},
   "outputs": [],
   "source": [
    "def adaptive(state: Nim) -> Nimply:\n",
    "    \"\"\"A strategy that can adapt its parameters\"\"\"\n",
    "    genome = {\"love_small\": 0.5}\n"
   ]
  },
  {
   "cell_type": "code",
   "execution_count": 8,
   "metadata": {},
   "outputs": [],
   "source": [
    "import numpy as np\n",
    "\n",
    "\n",
    "def nim_sum(state: Nim) -> int:\n",
    "    tmp = np.array([tuple(int(x) for x in f\"{c:032b}\") for c in state.rows])\n",
    "    xor = tmp.sum(axis=0) % 2\n",
    "    return int(\"\".join(str(_) for _ in xor), base=2)\n",
    "\n",
    "\n",
    "def analize(raw: Nim) -> dict:\n",
    "    cooked = dict()\n",
    "    cooked[\"possible_moves\"] = dict()\n",
    "    for ply in (Nimply(r, o) for r, c in enumerate(raw.rows) for o in range(1, c + 1)):\n",
    "        tmp = deepcopy(raw)\n",
    "        tmp.nimming(ply)\n",
    "        cooked[\"possible_moves\"][ply] = nim_sum(tmp)\n",
    "    return cooked\n",
    "\n",
    "\n",
    "def optimal(state: Nim) -> Nimply:\n",
    "    analysis = analize(state)\n",
    "    logging.debug(f\"analysis:\\n{pformat(analysis)}\")\n",
    "    spicy_moves = [ply for ply, ns in analysis[\"possible_moves\"].items() if ns != 0]\n",
    "    if not spicy_moves:\n",
    "        spicy_moves = list(analysis[\"possible_moves\"].keys())\n",
    "    ply = choice(spicy_moves)\n",
    "    return ply\n"
   ]
  },
  {
   "cell_type": "markdown",
   "metadata": {},
   "source": [
    "#### Evolutionary strategies FIRST ALGORITHM"
   ]
  },
  {
   "cell_type": "code",
   "execution_count": 75,
   "metadata": {},
   "outputs": [],
   "source": [
    "def mutation(indiv: list, state :Nim) -> list: \n",
    "    index = randint(0, len(indiv)-1)\n",
    "    ind = indiv[index].copy()\n",
    "    max_int = state.rows[ind[0]]\n",
    "    new_value = randint(1, max_int)\n",
    "    ind[1] = new_value\n",
    "    tmp = deepcopy(state)\n",
    "    tmp.nimming(Nimply(ind[0], ind[1]))\n",
    "    ind[2]=nim_sum(tmp)\n",
    "    return ind\n",
    "\n",
    "def mutation2(indiv: list, state :Nim) -> list:\n",
    "    index = randint(0, len(indiv)-1)\n",
    "    ind = indiv[index].copy()\n",
    "    max_int = state.rows[ind[0]]\n",
    "    new_value = max_int - 1 if max_int-1 != 0 else 1 #we try to delete the maximum number of elements - 1 (to leave at least one element in the line)\n",
    "    ind[1] = new_value\n",
    "    tmp = deepcopy(state)\n",
    "    tmp.nimming(Nimply(ind[0], ind[1]))\n",
    "    ind[2]=nim_sum(tmp)\n",
    "    return ind\n",
    "\n",
    "def mutation3(indiv: list, state :Nim) -> list:\n",
    "    current_nim_sum = nim_sum(state)\n",
    "    index = randint(0, len(indiv)-1) if len(indiv) > 1 else 0\n",
    "    \n",
    "    ind = indiv[index].copy()\n",
    "    elements_in_line = state.rows[ind[0]]\n",
    "    rule = current_nim_sum ^ elements_in_line\n",
    "    \n",
    "    if rule < elements_in_line:\n",
    "        #print(f\"sub in the line {ind[0]}, the value {elements_in_line - rule} before it has {elements_in_line}\")\n",
    "        new_value = elements_in_line - rule   \n",
    "    else :\n",
    "        new_value = randint(1, elements_in_line) if elements_in_line > 1 else 1\n",
    "    tmp = deepcopy(state)\n",
    "    tmp.nimming(Nimply(ind[0], new_value))\n",
    "    ind[2] = nim_sum(tmp)\n",
    "    ind[1] = new_value\n",
    "    return ind\n",
    "\n",
    "\n",
    "\n",
    "def crossover(ind_one : list, ind_two : list, state : Nim) -> list :\n",
    "    #The idea is to take the row of the first individual and the value of the second individual \n",
    "    # the opposite operation if the first one is not possible\n",
    "    # and if both are not possible, we keep the first individual\n",
    "    #calcualte the max value of the row of the first individual\n",
    "    max_ind_one = state.rows[ind_one[0]]\n",
    "\n",
    "    if ind_two[1] <= max_ind_one:\n",
    "        #print(\"change 1\")\n",
    "        #print(f\"setting in the line {ind_one[0]}, the value {ind_two[1]}\")\n",
    "        new_ind = [ind_one[0], ind_two[1]]\n",
    "        tmp = deepcopy(state)\n",
    "        tmp.nimming(new_ind)\n",
    "        new_ind.append(nim_sum(tmp))\n",
    "        return new_ind\n",
    "    else :\n",
    "        max_ind_two = state.rows[ind_two[0]]\n",
    "        if ind_one[1] <= max_ind_two:\n",
    "            #print(\"change 2\")\n",
    "            #print(f\"setting in the line {ind_two[0]}, the value {ind_one[1]}\")\n",
    "            new_ind = [ind_two[0], ind_one[1]]\n",
    "            tmp = deepcopy(state)\n",
    "            tmp.nimming(new_ind)\n",
    "            new_ind.append(nim_sum(tmp))\n",
    "            return new_ind\n",
    "        else :\n",
    "            return ind_one.copy()\n",
    "\n",
    "def tournament_selection(population : list, k :int = 2, sorted_population : int =2 ) -> list :\n",
    "    selected = list()\n",
    "    for _ in range(k):\n",
    "        selected.append(population[randint(0, len(population)-1)])\n",
    "    selected = np.array(selected)\n",
    "    sorted_index = np.argsort(selected[:,sorted_population])\n",
    "    return (selected[sorted_index])[0]\n",
    "\n",
    "\n",
    "def evolutionary_strategies(state : Nim, generation : int = 3, percentage_population : float = 0.8, mutation_rate : float = 0.10, sorted_population : int = 2) : \n",
    "#sorted population = 1 -> sort by min number of objects taken\n",
    "#sorted population = 2 -> sort by nim sum\n",
    "    analysis = analize(state)['possible_moves'] ##retrieves all possible moves and their nim sum\n",
    "    population_size=ceil(len(analysis.keys())  * percentage_population) ##select random possible moves\n",
    "\n",
    "    offspring_size = ceil(population_size/2)\n",
    "    ##select random possible moves\n",
    "    #p = list(set([ randint(0, len(analysis.keys())-1) for _ in range(population_size) ]))\n",
    "    p = list()\n",
    "    count = 0\n",
    "    while count < population_size:\n",
    "        tmp = randint(0, len(analysis.keys())-1)\n",
    "        if tmp not in p:\n",
    "            p.append(tmp)\n",
    "            count += 1\n",
    "\n",
    "    population  = []\n",
    "\n",
    "    for key, value in analysis.items():\n",
    "        population.append(list(key) + [value if value != 0 else sys.maxsize])\n",
    "    population = np.array(population)[p]\n",
    "    sorted_index = np.argsort(population[:,sorted_population])\n",
    "    population = list(population[sorted_index])\n",
    "    offspring = list()\n",
    "    for _ in range(generation) :\n",
    "        for index in range(offspring_size):\n",
    "            if random() < mutation_rate : \n",
    "                new_ind = mutation(population, state=state)\n",
    "            else :\n",
    "                new_ind_one = tournament_selection(population , k=3, sorted_population= sorted_population)\n",
    "                new_ind_two = tournament_selection(population, k=3, sorted_population= sorted_population)\n",
    "                new_ind = crossover(new_ind_one, new_ind_two ,state=state) \n",
    "            offspring.append(new_ind)\n",
    "        population = np.vstack([population, offspring])\n",
    "        sorted_index = np.argsort(population[:,sorted_population])\n",
    "        population = list(population[sorted_index])[:population_size]\n",
    "    #print(\"deleting\",population[0][0], population[0][1])\n",
    "    return Nimply(int(population[0][0]), int(population[0][1]))\n",
    "\n",
    "    "
   ]
  },
  {
   "cell_type": "markdown",
   "metadata": {},
   "source": [
    "### ES second algorithm \n",
    "using a comma strategy, that means the offspring completely replaces the parent population"
   ]
  },
  {
   "cell_type": "code",
   "execution_count": 72,
   "metadata": {},
   "outputs": [],
   "source": [
    "\n",
    "def evolutionary_strategies_comma(state : Nim, generation : int = 3, percentage_population : float = 0.8, mutation_rate : float = 0.10, sorted_population : int = 2) : \n",
    "#sorted population = 1 -> sort by min number of objects taken\n",
    "#sorted population = 2 -> sort by nim sum\n",
    "    analysis = analize(state)['possible_moves'] ##retrieves all possible moves and their nim sum\n",
    "    population_size=ceil(len(analysis.keys())  * percentage_population) ##select random possible moves\n",
    "\n",
    "    offspring_size = ceil(population_size)\n",
    "    ##select random possible moves\n",
    "    #p = list(set([ randint(0, len(analysis.keys())-1) for _ in range(population_size) ]))\n",
    "    p = list()\n",
    "    count = 0\n",
    "    while count < population_size:\n",
    "        tmp = randint(0, len(analysis.keys())-1)\n",
    "        if tmp not in p:\n",
    "            p.append(tmp)\n",
    "            count += 1\n",
    "\n",
    "    population  = []\n",
    "\n",
    "    for key, value in analysis.items():\n",
    "        population.append(list(key) + [value if value != 0 else sys.maxsize])\n",
    "    population = np.array(population)[p]\n",
    "    sorted_index = np.argsort(population[:,sorted_population])\n",
    "    population = list(population[sorted_index])\n",
    "    offspring = list()\n",
    "    for _ in range(generation) :\n",
    "        for index in range(offspring_size):\n",
    "            if random() < mutation_rate : \n",
    "                new_ind = mutation(population, state=state)\n",
    "            else :\n",
    "                new_ind_one = tournament_selection(population , k=3, sorted_population= sorted_population)\n",
    "                new_ind_two = tournament_selection(population, k=3, sorted_population= sorted_population)\n",
    "                new_ind = crossover(new_ind_one, new_ind_two ,state=state) \n",
    "            offspring.append(new_ind)\n",
    "        population = np.array(offspring)\n",
    "        sorted_index = np.argsort(population[:,sorted_population])\n",
    "        population = list(population[sorted_index])\n",
    "    #print(\"deleting\",population[0][0], population[0][1])\n",
    "    return Nimply(int(population[0][0]), int(population[0][1]))"
   ]
  },
  {
   "cell_type": "markdown",
   "metadata": {},
   "source": [
    "### Matches \n",
    "\n",
    "Select the number of matches to play between 2 players."
   ]
  },
  {
   "cell_type": "code",
   "execution_count": 76,
   "metadata": {},
   "outputs": [
    {
     "name": "stderr",
     "output_type": "stream",
     "text": [
      "100%|██████████| 500/500 [14:34<00:00,  1.75s/it]\n"
     ]
    },
    {
     "name": "stdout",
     "output_type": "stream",
     "text": [
      "wins : [373, 127] with generation 3 \n",
      "Percentage : player 0 0.746, player 1 0.254\n"
     ]
    },
    {
     "name": "stderr",
     "output_type": "stream",
     "text": [
      " 12%|█▏        | 62/500 [01:46<12:39,  1.74s/it]"
     ]
    }
   ],
   "source": [
    "NUM_MATCHES = 500\n",
    "wins = [0, 0]\n",
    "sequence = []\n",
    "K = 20\n",
    "logging.getLogger().setLevel(logging.INFO)\n",
    "\n",
    "strategy = (optimal, evolutionary_strategies)\n",
    "#logging.info(f\"init : {nim}\")\n",
    "player = 0\n",
    "generation = [3, 5, 10, 15, 20,40,80,100]\n",
    "for gen in range(len(generation)):\n",
    "    with tqdm(total=NUM_MATCHES) as pbar:\n",
    "        for i in range(NUM_MATCHES):\n",
    "            nim = Nim(K) \n",
    "            while nim:\n",
    "                if strategy == evolutionary_strategies:\n",
    "                    ply = strategy[player](nim, generation=generation[gen], percentage_population=0.8, mutation_rate=0.10, sorted_population=2)                   \n",
    "                else: \n",
    "                    ply = strategy[player](nim)\n",
    "                #logging.info(f\"ply: player {player} plays {ply}\")\n",
    "                #print(f\"ply: player {player} plays {ply}\")\n",
    "                nim.nimming(ply)\n",
    "                #logging.info(f\"status: {nim}\")\n",
    "                player = 1 - player\n",
    "            #print(f\"winner: player {player}\")\n",
    "            wins[player] += 1\n",
    "            sequence.append(player)\n",
    "            pbar.update(1)\n",
    "        \n",
    "        print(f\"wins : {wins} with generation {generation[gen]} \")\n",
    "        print(f\"Percentage : player 0 {wins[0]/NUM_MATCHES}, player 1 {wins[1]/NUM_MATCHES}\")\n",
    "        wins = [0, 0]\n",
    "# for i in range(NUM_MATCHES):\n",
    "#     print('player : ', sequence[i]) \n"
   ]
  }
 ],
 "metadata": {
  "kernelspec": {
   "display_name": "Python 3.10.7 ('ci22-dPIXJ0_o-py3.10')",
   "language": "python",
   "name": "python3"
  },
  "language_info": {
   "codemirror_mode": {
    "name": "ipython",
    "version": 3
   },
   "file_extension": ".py",
   "mimetype": "text/x-python",
   "name": "python",
   "nbconvert_exporter": "python",
   "pygments_lexer": "ipython3",
   "version": "3.11.6"
  },
  "vscode": {
   "interpreter": {
    "hash": "10197e8e2f2aa67e2c349105091c77f4cd384fce4877865f002d9ec653f96bc0"
   }
  }
 },
 "nbformat": 4,
 "nbformat_minor": 2
}
