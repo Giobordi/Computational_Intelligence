{
 "cells": [
  {
   "cell_type": "code",
   "execution_count": 198,
   "metadata": {},
   "outputs": [],
   "source": [
    "import logging\n",
    "from pprint import pprint, pformat\n",
    "from collections import namedtuple\n",
    "import random\n",
    "from copy import deepcopy\n",
    "from math import floor, ceil, inf\n",
    "from random import randint, random, choice\n",
    "import pprint \n",
    "from tqdm.auto import tqdm\n",
    "import sys\n",
    "import time \n"
   ]
  },
  {
   "cell_type": "markdown",
   "metadata": {},
   "source": [
    "## The *Nim* and *Nimply* classes"
   ]
  },
  {
   "cell_type": "code",
   "execution_count": 199,
   "metadata": {},
   "outputs": [],
   "source": [
    "Nimply = namedtuple(\"Nimply\", \"row, num_objects\")"
   ]
  },
  {
   "cell_type": "code",
   "execution_count": 200,
   "metadata": {},
   "outputs": [],
   "source": [
    "class Nim:\n",
    "    def __init__(self, num_rows: int, k: int = None) -> None:\n",
    "        self._rows = [i * 2 + 1 for i in range(num_rows)]\n",
    "        self._k = k\n",
    "\n",
    "    def __bool__(self):\n",
    "        return sum(self._rows) > 0\n",
    "\n",
    "    def __str__(self):\n",
    "        return \"<\" + \" \".join(str(_) for _ in self._rows) + \">\"\n",
    "\n",
    "    def full_rows(self) -> int:\n",
    "        return sum(1 for r in self._rows if r != 0)\n",
    "    @property\n",
    "    def rows(self) -> tuple:\n",
    "        return tuple(self._rows)\n",
    "\n",
    "    def nimming(self, ply: Nimply) -> None:\n",
    "        row, num_objects = ply\n",
    "        assert self._rows[row] >= num_objects\n",
    "        assert self._k is None or num_objects <= self._k\n",
    "        self._rows[row] -= num_objects\n"
   ]
  },
  {
   "cell_type": "markdown",
   "metadata": {},
   "source": [
    "## Sample (and silly) startegies "
   ]
  },
  {
   "cell_type": "code",
   "execution_count": 201,
   "metadata": {},
   "outputs": [],
   "source": [
    "def pure_random(state: Nim) -> Nimply:\n",
    "    \"\"\"A completely random move\"\"\"\n",
    "    row = choice([r for r, c in enumerate(state.rows) if c > 0])\n",
    "    num_objects = randint(1, state.rows[row])\n",
    "    return Nimply(row, num_objects)\n"
   ]
  },
  {
   "cell_type": "code",
   "execution_count": 202,
   "metadata": {},
   "outputs": [],
   "source": [
    "def gabriele(state: Nim) -> Nimply:\n",
    "    \"\"\"Pick always the maximum possible number of the lowest row\"\"\"\n",
    "    possible_moves = [(r, o) for r, c in enumerate(state.rows) for o in range(1, c + 1)]\n",
    "    return Nimply(*max(possible_moves, key=lambda m: (-m[0], m[1])))\n"
   ]
  },
  {
   "cell_type": "code",
   "execution_count": 203,
   "metadata": {},
   "outputs": [],
   "source": [
    "def adaptive(state: Nim) -> Nimply:\n",
    "    \"\"\"A strategy that can adapt its parameters\"\"\"\n",
    "    genome = {\"love_small\": 0.5}\n"
   ]
  },
  {
   "cell_type": "code",
   "execution_count": 204,
   "metadata": {},
   "outputs": [],
   "source": [
    "import numpy as np\n",
    "\n",
    "\n",
    "def nim_sum(state: Nim) -> int:\n",
    "    tmp = np.array([tuple(int(x) for x in f\"{c:032b}\") for c in state.rows])\n",
    "    xor = tmp.sum(axis=0) % 2\n",
    "    return int(\"\".join(str(_) for _ in xor), base=2)\n",
    "\n",
    "\n",
    "def analize(raw: Nim) -> dict:\n",
    "    cooked = dict()\n",
    "    cooked[\"possible_moves\"] = dict()\n",
    "    for ply in (Nimply(r, o) for r, c in enumerate(raw.rows) for o in range(1, c + 1)):\n",
    "        tmp = deepcopy(raw)\n",
    "        tmp.nimming(ply)\n",
    "        cooked[\"possible_moves\"][ply] = nim_sum(tmp)\n",
    "    return cooked\n",
    "\n",
    "\n",
    "def optimal(state: Nim) -> Nimply:\n",
    "    analysis = analize(state)\n",
    "    logging.debug(f\"analysis:\\n{pformat(analysis)}\")\n",
    "    spicy_moves = [ply for ply, ns in analysis[\"possible_moves\"].items() if ns != 0]\n",
    "    if not spicy_moves:\n",
    "        spicy_moves = list(analysis[\"possible_moves\"].keys())\n",
    "    ply = choice(spicy_moves)\n",
    "    return ply\n"
   ]
  },
  {
   "cell_type": "markdown",
   "metadata": {},
   "source": [
    "#### Evolutionary algorithm FIRST ALGORITHM"
   ]
  },
  {
   "cell_type": "code",
   "execution_count": 205,
   "metadata": {},
   "outputs": [],
   "source": [
    "def mutation(indiv: list, state :Nim) -> list: \n",
    "    index = randint(0, len(indiv)-1)\n",
    "    ind = indiv[index].copy()\n",
    "    max_int = state.rows[ind[0]]\n",
    "    new_value = randint(1, max_int)\n",
    "    ind[1] = new_value\n",
    "    tmp = deepcopy(state)\n",
    "    tmp.nimming(Nimply(ind[0], ind[1]))\n",
    "    ind[2]=nim_sum(tmp)\n",
    "    return ind\n",
    "\n",
    "def mutation2(indiv: list, state :Nim) -> list:\n",
    "    index = randint(0, len(indiv)-1)\n",
    "    ind = indiv[index].copy()\n",
    "    max_int = state.rows[ind[0]]\n",
    "    new_value = max_int - 1 if max_int-1 != 0 else 1 #we try to delete the maximum number of elements - 1 (to leave at least one element in the line)\n",
    "    ind[1] = new_value\n",
    "    tmp = deepcopy(state)\n",
    "    tmp.nimming(Nimply(ind[0], ind[1]))\n",
    "    ind[2]=nim_sum(tmp)\n",
    "    return ind\n",
    "\n",
    "def mutation3(indiv: list, state :Nim) -> list:\n",
    "    current_nim_sum = nim_sum(state)\n",
    "    index = randint(0, len(indiv)-1) if len(indiv) > 1 else 0\n",
    "    \n",
    "    ind = indiv[index].copy()\n",
    "    elements_in_line = state.rows[ind[0]]\n",
    "    rule = current_nim_sum ^ elements_in_line\n",
    "    \n",
    "    if rule < elements_in_line:\n",
    "        #print(f\"sub in the line {ind[0]}, the value {elements_in_line - rule} before it has {elements_in_line}\")\n",
    "        new_value = elements_in_line - rule   \n",
    "    else :\n",
    "        new_value = randint(1, elements_in_line) if elements_in_line > 1 else 1\n",
    "    tmp = deepcopy(state)\n",
    "    tmp.nimming(Nimply(ind[0], new_value))\n",
    "    ind[2] = nim_sum(tmp)\n",
    "    ind[1] = new_value\n",
    "    return ind\n",
    "\n",
    "\n",
    "\n",
    "def crossover(ind_one : list, ind_two : list, state : Nim) -> list :\n",
    "    #The idea is to take the row of the first individual and the value of the second individual \n",
    "    # the opposite operation if the first one is not possible\n",
    "    # and if both are not possible, we keep the first individual\n",
    "    #calcualte the max value of the row of the first individual\n",
    "    max_ind_one = state.rows[ind_one[0]]\n",
    "\n",
    "    if ind_two[1] <= max_ind_one:\n",
    "        #print(\"change 1\")\n",
    "        #print(f\"setting in the line {ind_one[0]}, the value {ind_two[1]}\")\n",
    "        new_ind = [ind_one[0], ind_two[1]]\n",
    "        tmp = deepcopy(state)\n",
    "        tmp.nimming(new_ind)\n",
    "        new_ind.append(nim_sum(tmp))\n",
    "        return new_ind\n",
    "    else :\n",
    "        max_ind_two = state.rows[ind_two[0]]\n",
    "        if ind_one[1] <= max_ind_two:\n",
    "            #print(\"change 2\")\n",
    "            #print(f\"setting in the line {ind_two[0]}, the value {ind_one[1]}\")\n",
    "            new_ind = [ind_two[0], ind_one[1]]\n",
    "            tmp = deepcopy(state)\n",
    "            tmp.nimming(new_ind)\n",
    "            new_ind.append(nim_sum(tmp))\n",
    "            return new_ind\n",
    "        else :\n",
    "            return ind_one.copy()\n",
    "\n",
    "def tournament_selection(population : list, k :int = 2, sorted_population : int =2 ) -> list :\n",
    "    selected = list()\n",
    "    for _ in range(k):\n",
    "        selected.append(population[randint(0, len(population)-1)])\n",
    "    selected = np.array(selected)\n",
    "    sorted_index = np.argsort(selected[:,sorted_population])\n",
    "    return (selected[sorted_index])[0]\n",
    "\n",
    "\n",
    "def evolutionary_strategies(state : Nim, generation : int = 3, percentage_population : float = 0.8, mutation_rate : float = 0.10, sorted_population : int = 2) : \n",
    "#sorted population = 1 -> sort by min number of objects taken\n",
    "#sorted population = 2 -> sort by nim sum\n",
    "    analysis = analize(state)['possible_moves'] ##retrieves all possible moves and their nim sum\n",
    "    population_size=ceil(len(analysis.keys())  * percentage_population) ##select random possible moves\n",
    "\n",
    "    offspring_size = ceil(population_size/2)\n",
    "    ##select random possible moves\n",
    "    #p = list(set([ randint(0, len(analysis.keys())-1) for _ in range(population_size) ]))\n",
    "    p = list()\n",
    "    count = 0\n",
    "    while count < population_size:\n",
    "        tmp = randint(0, len(analysis.keys())-1)\n",
    "        if tmp not in p:\n",
    "            p.append(tmp)\n",
    "            count += 1\n",
    "\n",
    "    population  = []\n",
    "\n",
    "    for key, value in analysis.items():\n",
    "        population.append(list(key) + [value if value != 0 else sys.maxsize])\n",
    "    population = np.array(population)[p]\n",
    "    sorted_index = np.argsort(population[:,sorted_population])\n",
    "    population = list(population[sorted_index])\n",
    "    offspring = list()\n",
    "    for _ in range(generation) :\n",
    "        for index in range(offspring_size):\n",
    "            if random() < mutation_rate : \n",
    "                new_ind = mutation(population, state=state)\n",
    "            else :\n",
    "                new_ind_one = tournament_selection(population , k=3, sorted_population= sorted_population)\n",
    "                new_ind_two = tournament_selection(population, k=3, sorted_population= sorted_population)\n",
    "                new_ind = crossover(new_ind_one, new_ind_two ,state=state) \n",
    "            offspring.append(new_ind)\n",
    "        population = np.vstack([population, offspring])\n",
    "        sorted_index = np.argsort(population[:,sorted_population])\n",
    "        population = list(population[sorted_index])[:population_size]\n",
    "    #print(\"deleting\",population[0][0], population[0][1])\n",
    "    return Nimply(int(population[0][0]), int(population[0][1]))\n",
    "\n",
    "    "
   ]
  },
  {
   "cell_type": "markdown",
   "metadata": {},
   "source": [
    "### EA second algorithm \n",
    "using a comma strategy, that means the offspring completely replaces the parent population"
   ]
  },
  {
   "cell_type": "code",
   "execution_count": 206,
   "metadata": {},
   "outputs": [],
   "source": [
    "\n",
    "def evolutionary_strategies_comma(state : Nim, generation : int = 3, percentage_population : float = 0.8, mutation_rate : float = 0.10, sorted_population : int = 2) : \n",
    "#sorted population = 1 -> sort by min number of objects taken\n",
    "#sorted population = 2 -> sort by nim sum\n",
    "    analysis = analize(state)['possible_moves'] ##retrieves all possible moves and their nim sum\n",
    "    population_size=ceil(len(analysis.keys())  * percentage_population) ##select random possible moves\n",
    "\n",
    "    offspring_size = ceil(population_size)\n",
    "    ##select random possible moves\n",
    "    #p = list(set([ randint(0, len(analysis.keys())-1) for _ in range(population_size) ]))\n",
    "    p = list()\n",
    "    count = 0\n",
    "    while count < population_size:\n",
    "        tmp = randint(0, len(analysis.keys())-1)\n",
    "        if tmp not in p:\n",
    "            p.append(tmp)\n",
    "            count += 1\n",
    "\n",
    "    population  = []\n",
    "\n",
    "    for key, value in analysis.items():\n",
    "        population.append(list(key) + [value if value != 0 else sys.maxsize])\n",
    "    population = np.array(population)[p]\n",
    "    sorted_index = np.argsort(population[:,sorted_population])\n",
    "    population = list(population[sorted_index])\n",
    "    offspring = list()\n",
    "    for _ in range(generation) :\n",
    "        for index in range(offspring_size):\n",
    "            if random() < mutation_rate : \n",
    "                new_ind = mutation(population, state=state)\n",
    "            else :\n",
    "                new_ind_one = tournament_selection(population , k=15, sorted_population= sorted_population)\n",
    "                new_ind_two = tournament_selection(population, k=15, sorted_population= sorted_population)\n",
    "                new_ind = crossover(new_ind_one, new_ind_two ,state=state) \n",
    "            offspring.append(new_ind)\n",
    "        population = np.array(offspring)\n",
    "        sorted_index = np.argsort(population[:,sorted_population])\n",
    "        population = list(population[sorted_index])\n",
    "    #print(\"deleting\",population[0][0], population[0][1])\n",
    "    return Nimply(int(population[0][0]), int(population[0][1]))"
   ]
  },
  {
   "cell_type": "markdown",
   "metadata": {},
   "source": [
    "### Matches \n",
    "\n",
    "Select the number of matches to play between 2 players."
   ]
  },
  {
   "cell_type": "code",
   "execution_count": 207,
   "metadata": {},
   "outputs": [
    {
     "name": "stderr",
     "output_type": "stream",
     "text": [
      "100%|██████████| 100/100 [00:03<00:00, 29.50it/s]\n"
     ]
    },
    {
     "name": "stdout",
     "output_type": "stream",
     "text": [
      "wins : [55, 45] with generation 3 \n",
      "Percentage : player 0 0.55, player 1 0.45\n"
     ]
    },
    {
     "name": "stderr",
     "output_type": "stream",
     "text": [
      "100%|██████████| 100/100 [00:02<00:00, 34.11it/s]\n"
     ]
    },
    {
     "name": "stdout",
     "output_type": "stream",
     "text": [
      "wins : [60, 40] with generation 5 \n",
      "Percentage : player 0 0.6, player 1 0.4\n"
     ]
    },
    {
     "name": "stderr",
     "output_type": "stream",
     "text": [
      "100%|██████████| 100/100 [00:02<00:00, 34.09it/s]\n"
     ]
    },
    {
     "name": "stdout",
     "output_type": "stream",
     "text": [
      "wins : [65, 35] with generation 10 \n",
      "Percentage : player 0 0.65, player 1 0.35\n"
     ]
    },
    {
     "name": "stderr",
     "output_type": "stream",
     "text": [
      "100%|██████████| 100/100 [00:03<00:00, 33.24it/s]\n"
     ]
    },
    {
     "name": "stdout",
     "output_type": "stream",
     "text": [
      "wins : [72, 28] with generation 15 \n",
      "Percentage : player 0 0.72, player 1 0.28\n"
     ]
    },
    {
     "name": "stderr",
     "output_type": "stream",
     "text": [
      "100%|██████████| 100/100 [00:03<00:00, 32.86it/s]\n"
     ]
    },
    {
     "name": "stdout",
     "output_type": "stream",
     "text": [
      "wins : [56, 44] with generation 20 \n",
      "Percentage : player 0 0.56, player 1 0.44\n"
     ]
    },
    {
     "name": "stderr",
     "output_type": "stream",
     "text": [
      "100%|██████████| 100/100 [00:03<00:00, 32.43it/s]\n"
     ]
    },
    {
     "name": "stdout",
     "output_type": "stream",
     "text": [
      "wins : [53, 47] with generation 40 \n",
      "Percentage : player 0 0.53, player 1 0.47\n"
     ]
    },
    {
     "name": "stderr",
     "output_type": "stream",
     "text": [
      "100%|██████████| 100/100 [00:03<00:00, 31.16it/s]\n"
     ]
    },
    {
     "name": "stdout",
     "output_type": "stream",
     "text": [
      "wins : [55, 45] with generation 80 \n",
      "Percentage : player 0 0.55, player 1 0.45\n"
     ]
    },
    {
     "name": "stderr",
     "output_type": "stream",
     "text": [
      "100%|██████████| 100/100 [00:03<00:00, 32.21it/s]"
     ]
    },
    {
     "name": "stdout",
     "output_type": "stream",
     "text": [
      "wins : [52, 48] with generation 100 \n",
      "Percentage : player 0 0.52, player 1 0.48\n"
     ]
    },
    {
     "name": "stderr",
     "output_type": "stream",
     "text": [
      "\n"
     ]
    }
   ],
   "source": [
    "NUM_MATCHES = 100\n",
    "wins = [0, 0]\n",
    "sequence = []\n",
    "K = 7\n",
    "logging.getLogger().setLevel(logging.INFO)\n",
    "\n",
    "strategy = ( evolutionary_strategies,optimal)\n",
    "#logging.info(f\"init : {nim}\")\n",
    "player = 0\n",
    "generation = [3, 5, 10, 15, 20,40,80,100]\n",
    "\n",
    "for gen in range(len(generation)):\n",
    "    with tqdm(total=NUM_MATCHES) as pbar:\n",
    "        for i in range(NUM_MATCHES):\n",
    "            nim = Nim(K) \n",
    "            while nim:\n",
    "                if strategy == evolutionary_strategies:\n",
    "                    ply = strategy[player](nim, generation=generation[gen], percentage_population=0.8, mutation_rate=0.10, sorted_population=2)                   \n",
    "                else: \n",
    "                    ply = strategy[player](nim)\n",
    "                #logging.info(f\"ply: player {player} plays {ply}\")\n",
    "                #print(f\"ply: player {player} plays {ply}\")\n",
    "                nim.nimming(ply)\n",
    "                #logging.info(f\"status: {nim}\")\n",
    "                player = 1 - player\n",
    "            #print(f\"winner: player {player}\")\n",
    "            wins[player] += 1\n",
    "            sequence.append(player)\n",
    "            pbar.update(1)\n",
    "        \n",
    "        print(f\"wins : {wins} with generation {generation[gen]} \")\n",
    "        print(f\"Percentage : player 0 {wins[0]/NUM_MATCHES}, player 1 {wins[1]/NUM_MATCHES}\")\n",
    "        wins = [0, 0]\n",
    "# for i in range(NUM_MATCHES):\n",
    "#     print('player : ', sequence[i]) \n"
   ]
  },
  {
   "cell_type": "markdown",
   "metadata": {},
   "source": [
    "This first part has been done previously i discovered that the nim-sum should not be used in the Evolutionary approach"
   ]
  },
  {
   "cell_type": "markdown",
   "metadata": {},
   "source": [
    "# ES "
   ]
  },
  {
   "cell_type": "code",
   "execution_count": 208,
   "metadata": {},
   "outputs": [],
   "source": [
    "import inspect\n",
    "\n",
    "class Rule : \n",
    "    def __init__(self , condition : callable , action : Nimply, weight : int =0.5) : \n",
    "        self.condition = condition\n",
    "        self.action = action\n",
    "        self.weight = weight\n",
    "\n",
    "    def update_rule_weight(self, improve :bool = True) : \n",
    "        if improve :     \n",
    "            self.weight *= 1.00001\n",
    "        else :\n",
    "            self.weight /= 1.00001\n",
    "\n",
    "    def __str__(self) :\n",
    "        return f\"{inspect.getsource(self.condition)} -> {self.action} : {self.weight}\"\n",
    "\n",
    "class EsNimAgent : \n",
    "    def __init__(self, rules : list[Rule], played : int = 0, won : int = 0):\n",
    "        self.rules = rules\n",
    "        self.match_played = played\n",
    "        self.match_won = won\n",
    "\n",
    "    def win_match(self, win :bool = True) : \n",
    "        self.match_played += 1\n",
    "        if win : \n",
    "            self.match_won += 1\n",
    "        self.update_rules_weight(win)\n",
    "\n",
    "    def update_rules_weight(self, win :bool = True) :\n",
    "        '''\n",
    "        A win means that the rules can be assumed as good rules, so we increase their weight\n",
    "        A loss means that the rules are not good, so we decrease their weight \n",
    "        '''\n",
    "        for rule in self.rules : \n",
    "            rule.update_rule_weight(win)\n",
    "        \n",
    "\n",
    "    def agent_fitness(self) : \n",
    "        if self.match_played == 0 : \n",
    "            return 0\n",
    "        return self.match_won/self.match_played\n",
    "    \n",
    "    def move_selection(self, state : Nim) -> Nimply:\n",
    "        possible_moves = list()\n",
    "        for rule in self.rules :\n",
    "            if rule.condition(state) and rule.weight > 0 \\\n",
    "            and rule.action.num_objects <= state.rows[rule.action.row] : ## to take the correct rule with the highest weight\n",
    "                possible_moves.append([rule.action, rule.weight])\n",
    "                #return rule.action\n",
    "        if len(possible_moves) == 0 :\n",
    "            if random() < 0.15 :\n",
    "                self.update_rules_weight(False) ##the agent is penalized if it cannot find a rule to apply \n",
    "                #print(\"random penality\") \n",
    "            return pure_random(state)\n",
    "        else : \n",
    "            possible_moves.sort(key = lambda x : x[1], reverse = True) ##sort for the weight\n",
    "            return possible_moves[0][0]\n"
   ]
  },
  {
   "cell_type": "markdown",
   "metadata": {},
   "source": [
    "## Functions for the initialization of the ES"
   ]
  },
  {
   "cell_type": "code",
   "execution_count": 209,
   "metadata": {},
   "outputs": [],
   "source": [
    "import pprint \n",
    "\n",
    "###initialization of my rules plus all possible moves associated\n",
    "\n",
    "def all_possible_moves(state : Nim) -> list : \n",
    "    return [Nimply(r, o) for r, c in enumerate(state.rows) for o in range(1, c + 1)]\n",
    "   \n",
    "\n",
    "def condition_for_rule(number_of_row : int) -> list[callable] :\n",
    "    possible_rules = list()\n",
    "    ### odd number of elements\n",
    "    ##random element\n",
    "    possible_rules.append(lambda state:  state.rows[randint(0, number_of_row-1)] > 1 and state.rows[randint(0, number_of_row-1)] > 1)\n",
    "\n",
    "    ###if there are many element or not\n",
    "    possible_rules.append(lambda state:   sum(state.rows) >  len(state.rows) * 2) ##many elements\n",
    "    possible_rules.append(lambda state:   sum(state.rows) <= len(state.rows) * 2) ##few elements\n",
    "\n",
    "    ##one possible final move\n",
    "    possible_rules.append(lambda state:  sum(state.rows) <= 2) \n",
    "    possible_rules.append(lambda state:  sum(state.rows) ==3 and state.full_rows() == 2) \n",
    "\n",
    "    ###if there are many full rows or not\n",
    "    possible_rules.append(lambda state:  state.full_rows() >= ceil(len(state.rows)/2)) ##many full rows\n",
    "    possible_rules.append(lambda state:  state.full_rows() < ceil(len(state.rows)/2))\n",
    "    ##add more rules \n",
    "    # possible_rules.append(lambda state: nim_sum(state) != 0)\n",
    "    return possible_rules\n",
    "\n",
    "def global_set_rules(conditions_for_rules : list, moves : list, fixed_weight : float = 0.5) -> list :\n",
    "    global_set_of_rules = list()\n",
    "    for condition in conditions_for_rules : \n",
    "        for move in moves : \n",
    "            global_set_of_rules.append(Rule(condition, move, fixed_weight))\n",
    "    return global_set_of_rules  \n"
   ]
  },
  {
   "cell_type": "markdown",
   "metadata": {},
   "source": [
    "### start the ES code"
   ]
  },
  {
   "cell_type": "code",
   "execution_count": 210,
   "metadata": {},
   "outputs": [],
   "source": [
    "def create_population (global_set_of_rules : list, population_size : int = 10, numbers_of_rules : int = 5) -> list : \n",
    "    population = list()\n",
    "    for _ in range(population_size) : \n",
    "        one_element = list()\n",
    "        for __ in range(numbers_of_rules) : \n",
    "            choosen_rule = choice(global_set_of_rules)\n",
    "            #print(choosen_rule)\n",
    "            one_element.append(choosen_rule)\n",
    "        population.append(EsNimAgent(one_element))  \n",
    "    return population\n"
   ]
  },
  {
   "cell_type": "code",
   "execution_count": 211,
   "metadata": {},
   "outputs": [],
   "source": [
    "\n",
    "def play_a_game (agent_one , agent_two, nim : Nim) -> int :\n",
    "    '''\n",
    "    Play a game between two agents, return 0 if the first agent wins, 1 otherwise. \n",
    "    Randomly choose who starts.\n",
    "    '''\n",
    "    turn = randint(0,1)\n",
    "    strategies = [agent_one, agent_two]\n",
    "    while nim : \n",
    "        ply = strategies[turn](nim)\n",
    "        nim.nimming(ply)\n",
    "        turn = 1 - turn\n",
    "    return turn\n",
    "\n",
    "def mutation(agent_orig : EsNimAgent, set_rules : list) -> EsNimAgent : \n",
    "    agent = deepcopy(agent_orig)\n",
    "    rules = list()\n",
    "    for rule in agent.rules :\n",
    "        if random() < 0.5:\n",
    "            r = choice(set_rules)\n",
    "            rules.append(r)\n",
    "        else : \n",
    "            r = rule\n",
    "            rules.append(r)\n",
    "    return EsNimAgent(rules, agent.match_played, agent.match_won)\n",
    "\n",
    "def one_cut_crossover(agent_one : EsNimAgent, agent_two : EsNimAgent) -> EsNimAgent :\n",
    "    '''\n",
    "    This function keep the first half of rules from the first parent and the second half of rules from the second parent\n",
    "    '''\n",
    "    new_rules = list()\n",
    "    for i in range(len(agent_one.rules)) :\n",
    "        if i < ceil(len(agent_one.rules)/2) :\n",
    "            new_rules.append(agent_one.rules[i])\n",
    "        else : \n",
    "            new_rules.append(agent_two.rules[i])\n",
    "    return EsNimAgent(new_rules, ceil((agent_one.match_played + agent_two.match_played)/2), ceil((agent_one.match_won + agent_two.match_won)/2) )\n",
    "    ##the first value is always 3 * num matches \n",
    "    \n",
    "\n",
    "def survival_selection(population : list[EsNimAgent], population_size : int = 10) -> list[EsNimAgent] : \n",
    "    ##sort the population by fitness\n",
    "    sorted_population = sorted(population, key=lambda x : x.agent_fitness(), reverse=True)\n",
    "    ##it is necessary to reset the number of matches played and won\n",
    "    for agent in sorted_population[:population_size]: \n",
    "        agent.match_played = 0\n",
    "        agent.match_won = 0\n",
    "    return sorted_population[:population_size]\n",
    "\n",
    "def tournament_selection(population : list[EsNimAgent], k :int = 2) -> list :\n",
    "    selected = list()\n",
    "    for _ in range(k):\n",
    "        selected.append(choice(population))\n",
    "    ### the one with the highest fitness wins\n",
    "    return max(selected, key=lambda x : x.agent_fitness())\n",
    "\n",
    "def generate_new_generation(population : list[EsNimAgent], tournament_size : int = 5,offspring_size : int = 0 , mutation_rate : float = 0.1, \\\n",
    "                            set_rules : list = list()) :\n",
    "    new_offspring = list()\n",
    "    for _ in range(offspring_size) : \n",
    "        parent_one = tournament_selection(population, k=tournament_size)\n",
    "        \n",
    "        if random() < mutation_rate : \n",
    "            new_offspring.append(mutation(parent_one, set_rules=set_rules))\n",
    "\n",
    "        else : #cross over\n",
    "            parent_two = tournament_selection(population, k=tournament_size)\n",
    "            new_offspring.append(one_cut_crossover(parent_one, parent_two))\n",
    "    return new_offspring\n",
    "\n",
    "###GENERATION STRATEGIES\n",
    "def ES(population :list [EsNimAgent] , num_generation : int , \\\n",
    "       num_matches : int, num_rows : int , tournament_size : int ,\\\n",
    "          mutation_rate : float ,set_rules : list) -> EsNimAgent :\n",
    "    t1 = time.time()\n",
    "    for _ in range(num_generation):\n",
    "        for agent in population : \n",
    "            #each agent plays against the std agent in the population\n",
    "            for _ in range(num_matches) : \n",
    "                current_win = 0\n",
    "                nim = Nim(num_rows)\n",
    "                w = play_a_game(agent.move_selection, optimal, nim) #against the optimal strategy\n",
    "                if w == 0 : \n",
    "                    current_win += 1\n",
    "                nim = Nim(num_rows)\n",
    "                w = play_a_game(agent.move_selection, pure_random, nim) #against the random strategy\n",
    "                if w == 0 : \n",
    "                    current_win += 1\n",
    "                nim = Nim(num_rows)\n",
    "                w = play_a_game(agent.move_selection, gabriele, nim) #against the gabriele strategy\n",
    "                if w == 0 : \n",
    "                    current_win += 1\n",
    "                ####update the weight of the agent\n",
    "                for _ in range(current_win) : \n",
    "                    agent.win_match(True)\n",
    "                for _ in range(3-current_win) :\n",
    "                    agent.win_match(False)\n",
    "        POPULATION_SIZE = len(population)        \n",
    "        offspring = generate_new_generation(population,tournament_size,POPULATION_SIZE, mutation_rate,set_rules)\n",
    "        population.extend(offspring)\n",
    "        population = survival_selection(population, POPULATION_SIZE)\n",
    "        #print(f\"generation {_} completed\")\n",
    "    t2 = time.time()\n",
    "    print(f\"ES time {t2-t1}\")\n",
    "    return population[0]\n",
    "\n"
   ]
  },
  {
   "cell_type": "code",
   "execution_count": 240,
   "metadata": {},
   "outputs": [
    {
     "name": "stdout",
     "output_type": "stream",
     "text": [
      "ES time 13.7972412109375\n"
     ]
    }
   ],
   "source": [
    "##first setting\n",
    "\n",
    "NUM_ROWS = 4\n",
    "POPULATION_SIZE = 10\n",
    "NUM_RULES = 10\n",
    "GENERATIONS = 10\n",
    "TOURNAMENT_SIZE = 4\n",
    "NUM_MATCHES = 100\n",
    "MUTATION_RATE = 0.1\n",
    "\n",
    "nim = Nim(NUM_ROWS)\n",
    "all_moves = all_possible_moves(nim)\n",
    "conditions = condition_for_rule(NUM_ROWS)\n",
    "set_rules = global_set_rules(conditions, all_moves)\n",
    "population = create_population(set_rules, population_size=POPULATION_SIZE, numbers_of_rules=NUM_RULES)\n",
    "\n",
    "last_remain_one = ES(population,GENERATIONS, NUM_MATCHES,NUM_ROWS,TOURNAMENT_SIZE, MUTATION_RATE, set_rules)\n"
   ]
  },
  {
   "cell_type": "code",
   "execution_count": null,
   "metadata": {},
   "outputs": [],
   "source": [
    "NUM_ROWS = 7\n",
    "POPULATION_SIZE = 20\n",
    "NUM_RULES = 20\n",
    "GENERATIONS = 50\n",
    "TOURNAMENT_SIZE = 8\n",
    "NUM_MATCHES = 50\n",
    "MUTATION_RATE = 0.1\n",
    "\n",
    "nim = Nim(NUM_ROWS)\n",
    "all_moves = all_possible_moves(nim)\n",
    "conditions = condition_for_rule(NUM_ROWS)\n",
    "set_rules = global_set_rules(conditions, all_moves)\n",
    "population = create_population(set_rules, population_size=POPULATION_SIZE, numbers_of_rules=NUM_RULES)\n",
    "\n",
    "last_remain = ES(population,GENERATIONS, NUM_MATCHES,NUM_ROWS,TOURNAMENT_SIZE, MUTATION_RATE,set_rules)"
   ]
  },
  {
   "cell_type": "code",
   "execution_count": null,
   "metadata": {},
   "outputs": [],
   "source": [
    "NUM_ROWS = 5\n",
    "POPULATION_SIZE = 20\n",
    "NUM_RULES = 15\n",
    "GENERATIONS = 80\n",
    "TOURNAMENT_SIZE = 10\n",
    "NUM_MATCHES = 100\n",
    "MUTATION_RATE = 0.1\n",
    "TEST_MATCHES = 100\n",
    "\n",
    "nim = Nim(NUM_ROWS)\n",
    "all_moves = all_possible_moves(nim)\n",
    "conditions = condition_for_rule(NUM_ROWS)\n",
    "set_rules = global_set_rules(conditions, all_moves)\n",
    "population = create_population(set_rules, population_size=POPULATION_SIZE, numbers_of_rules=NUM_RULES)\n",
    "\n",
    "last_remain_two = ES(population,GENERATIONS, NUM_MATCHES,NUM_ROWS,TOURNAMENT_SIZE, MUTATION_RATE,set_rules)\n"
   ]
  },
  {
   "cell_type": "markdown",
   "metadata": {},
   "source": [
    "This section is to test the diffent training setup "
   ]
  },
  {
   "cell_type": "code",
   "execution_count": 239,
   "metadata": {},
   "outputs": [
    {
     "name": "stdout",
     "output_type": "stream",
     "text": [
      "wins : [263, 737] \n",
      "Percentage : player 0 0.263, player 1 0.737\n",
      "sequence : [0, 0, 0, 1, 1, 1, 0, 1, 1, 1, 0, 1, 1, 0, 1, 1, 1, 1, 1, 1, 0, 1, 1, 1, 1, 1, 1, 1, 1, 1, 1, 1, 1, 0, 1, 0, 1, 0, 1, 1, 1, 1, 1, 1, 1, 1, 1, 1, 1, 1, 1, 1, 1, 0, 1, 1, 1, 1, 1, 0, 1, 1, 1, 0, 1, 1, 0, 0, 1, 0, 1, 1, 1, 1, 1, 1, 1, 1, 0, 1, 1, 0, 1, 1, 1, 1, 1, 1, 1, 1, 0, 1, 1, 1, 0, 0, 0, 1, 1, 1, 1, 0, 1, 0, 0, 1, 1, 1, 1, 1, 1, 1, 1, 1, 0, 1, 1, 1, 1, 1, 1, 0, 1, 0, 1, 1, 1, 0, 1, 1, 0, 1, 1, 1, 1, 1, 1, 1, 1, 1, 0, 0, 1, 0, 0, 1, 1, 1, 1, 0, 1, 1, 1, 1, 1, 0, 1, 1, 1, 1, 1, 1, 1, 1, 1, 1, 1, 1, 1, 1, 0, 0, 1, 0, 0, 1, 1, 1, 1, 1, 1, 0, 0, 1, 0, 1, 0, 1, 1, 1, 1, 1, 1, 1, 1, 0, 1, 1, 1, 1, 0, 1, 1, 1, 1, 1, 1, 1, 1, 0, 1, 1, 1, 1, 1, 1, 1, 1, 0, 1, 1, 1, 1, 1, 1, 0, 1, 1, 1, 1, 1, 0, 1, 1, 1, 1, 0, 1, 0, 0, 1, 0, 1, 1, 1, 1, 0, 0, 1, 0, 1, 0, 1, 1, 0, 1, 1, 1, 1, 0, 0, 1, 0, 1, 0, 1, 0, 0, 1, 0, 1, 1, 1, 1, 1, 1, 0, 1, 1, 1, 1, 1, 0, 1, 1, 1, 1, 1, 1, 1, 1, 1, 1, 1, 1, 1, 1, 0, 0, 1, 1, 0, 1, 1, 1, 0, 1, 1, 1, 0, 1, 1, 1, 1, 0, 1, 1, 1, 1, 0, 1, 1, 1, 1, 1, 1, 0, 1, 0, 0, 1, 0, 1, 1, 1, 1, 1, 1, 1, 1, 1, 1, 1, 1, 1, 1, 1, 1, 0, 0, 1, 1, 0, 1, 1, 1, 1, 1, 1, 1, 0, 1, 1, 1, 1, 1, 1, 0, 1, 1, 1, 0, 1, 1, 1, 1, 1, 1, 0, 0, 1, 0, 1, 1, 1, 1, 1, 1, 1, 1, 1, 1, 0, 1, 0, 0, 1, 1, 1, 1, 1, 0, 0, 1, 1, 1, 0, 1, 1, 1, 1, 1, 0, 0, 1, 1, 0, 0, 0, 1, 1, 1, 0, 1, 1, 1, 0, 0, 0, 0, 1, 1, 1, 1, 1, 1, 1, 1, 0, 1, 1, 0, 1, 1, 0, 1, 1, 0, 1, 1, 1, 1, 0, 1, 0, 0, 0, 0, 1, 0, 1, 0, 1, 1, 0, 1, 1, 0, 1, 1, 0, 1, 1, 0, 0, 0, 1, 0, 1, 1, 1, 1, 1, 1, 1, 1, 1, 1, 1, 0, 1, 1, 1, 1, 1, 1, 1, 1, 1, 1, 0, 1, 1, 1, 0, 1, 1, 1, 1, 0, 1, 1, 0, 1, 1, 1, 1, 1, 1, 1, 1, 1, 1, 1, 1, 1, 1, 0, 1, 1, 1, 1, 0, 1, 1, 1, 1, 0, 1, 1, 1, 1, 1, 0, 1, 1, 0, 1, 0, 1, 1, 1, 1, 1, 1, 0, 1, 1, 1, 0, 1, 1, 1, 1, 1, 1, 0, 0, 0, 1, 1, 1, 1, 0, 1, 0, 1, 0, 0, 1, 1, 1, 1, 1, 0, 1, 1, 1, 1, 1, 1, 0, 1, 1, 1, 1, 1, 1, 1, 1, 1, 0, 1, 0, 0, 0, 1, 0, 1, 1, 1, 1, 1, 0, 0, 0, 1, 1, 1, 1, 1, 0, 1, 1, 1, 1, 1, 1, 1, 1, 0, 0, 1, 1, 1, 1, 1, 1, 1, 1, 1, 1, 1, 1, 1, 1, 1, 0, 1, 0, 1, 0, 1, 0, 1, 1, 1, 1, 0, 1, 0, 1, 1, 1, 1, 1, 1, 0, 1, 1, 1, 1, 1, 0, 1, 1, 0, 0, 0, 0, 1, 1, 1, 1, 1, 1, 0, 1, 1, 1, 1, 1, 1, 0, 1, 1, 0, 1, 0, 1, 1, 0, 0, 1, 1, 0, 0, 1, 1, 1, 1, 1, 1, 1, 0, 0, 1, 1, 1, 1, 1, 1, 1, 0, 1, 1, 1, 1, 1, 1, 1, 1, 0, 1, 1, 0, 1, 0, 0, 1, 0, 0, 0, 1, 1, 0, 1, 0, 1, 1, 1, 1, 1, 0, 1, 1, 1, 0, 0, 1, 1, 1, 1, 1, 1, 0, 1, 1, 1, 1, 0, 0, 0, 1, 1, 1, 0, 1, 1, 1, 1, 1, 0, 1, 1, 0, 1, 1, 0, 0, 0, 0, 1, 1, 0, 1, 1, 1, 1, 0, 0, 1, 1, 1, 1, 1, 0, 1, 1, 0, 1, 1, 1, 0, 1, 1, 1, 0, 0, 1, 1, 1, 1, 0, 1, 1, 1, 1, 1, 0, 1, 0, 1, 0, 1, 1, 0, 1, 1, 0, 1, 0, 1, 0, 0, 1, 1, 1, 1, 1, 1, 0, 1, 1, 0, 1, 0, 0, 0, 1, 0, 1, 1, 1, 1, 1, 0, 1, 0, 1, 0, 1, 0, 1, 1, 1, 1, 0, 1, 0, 0, 1, 1, 1, 1, 0, 1, 1, 0, 1, 1, 1, 0, 1, 0, 0, 1, 0, 1, 1, 1, 1, 1, 1, 1, 1, 1, 1, 1, 1, 1, 1, 1, 1, 1, 0, 1, 1, 1, 1, 1, 1, 0, 1, 1, 1, 1, 1, 1, 0, 1, 0, 1, 1, 0, 1, 1, 0, 1, 1, 1, 1, 1, 1, 1, 1, 1, 1, 1, 0, 0, 1, 1, 1, 0, 0, 0, 1, 1, 1, 0, 1, 1, 1, 0, 1, 0, 1, 1, 1, 0, 0, 1, 1, 1, 0, 0, 1, 1, 1, 0, 1, 0, 1, 1, 1, 1, 0, 0, 0, 1, 1, 1, 0, 0, 1, 0, 1, 1, 1]\n"
     ]
    }
   ],
   "source": [
    "best_agent = last_remain ###here we set the best agent trained with specific parameters\n",
    "wins = [0, 0]\n",
    "sequence = []\n",
    "strategy = [ best_agent.move_selection,optimal]\n",
    "TEST_MATCHES = 1000\n",
    "for i in range(TEST_MATCHES):\n",
    "    turn = randint(0,1)\n",
    "    nim = Nim(NUM_ROWS) \n",
    "    while nim:\n",
    "        ply = strategy[turn](nim)\n",
    "        nim.nimming(ply)\n",
    "        turn = 1 - turn\n",
    "    wins[turn] += 1\n",
    "    sequence.append(turn)      \n",
    "    \n",
    "print(f\"wins : {wins} \")\n",
    "print(f\"Percentage : player 0 {wins[0]/TEST_MATCHES}, player 1 {wins[1]/TEST_MATCHES}\")\n",
    "print(f\"sequence : {sequence}\")"
   ]
  }
 ],
 "metadata": {
  "kernelspec": {
   "display_name": "Python 3.10.7 ('ci22-dPIXJ0_o-py3.10')",
   "language": "python",
   "name": "python3"
  },
  "language_info": {
   "codemirror_mode": {
    "name": "ipython",
    "version": 3
   },
   "file_extension": ".py",
   "mimetype": "text/x-python",
   "name": "python",
   "nbconvert_exporter": "python",
   "pygments_lexer": "ipython3",
   "version": "3.11.6"
  },
  "vscode": {
   "interpreter": {
    "hash": "10197e8e2f2aa67e2c349105091c77f4cd384fce4877865f002d9ec653f96bc0"
   }
  }
 },
 "nbformat": 4,
 "nbformat_minor": 2
}
