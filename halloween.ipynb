{
 "cells": [
  {
   "cell_type": "code",
   "execution_count": 48,
   "metadata": {},
   "outputs": [],
   "source": [
    "from itertools import product\n",
    "from random import random, randint, shuffle, seed\n",
    "import numpy as np\n",
    "from scipy import sparse\n",
    "from functools import reduce\n",
    "from math import ceil, exp\n",
    "from tqdm.auto import tqdm\n",
    "from tabulate import tabulate\n",
    "\n"
   ]
  },
  {
   "cell_type": "code",
   "execution_count": 49,
   "metadata": {},
   "outputs": [],
   "source": [
    "def make_set_covering_problem(num_points, num_sets, density):\n",
    "    \"\"\"Returns a sparse array where rows are sets and columns are the covered items\"\"\"\n",
    "    seed(num_points*2654435761+num_sets+density)\n",
    "    sets = sparse.lil_array((num_sets, num_points), dtype=bool)\n",
    "    for s, p in product(range(num_sets), range(num_points)):\n",
    "        if random() < density:\n",
    "            sets[s, p] = True\n",
    "    for p in range(num_points):\n",
    "        sets[randint(0, num_sets-1), p] = True\n",
    "    return np.array(sets.toarray())"
   ]
  },
  {
   "cell_type": "code",
   "execution_count": 50,
   "metadata": {},
   "outputs": [],
   "source": [
    "num_points = [100, 1_000, 5_000]\n",
    "num_sets = num_points[0]\n",
    "num_points = num_points[0]\n",
    "density = [.3,.7]\n",
    "density = density[0]\n",
    "\n",
    "set_threashold = ceil(num_points/2)  #number of iteration \n",
    "\n"
   ]
  },
  {
   "cell_type": "code",
   "execution_count": 51,
   "metadata": {},
   "outputs": [],
   "source": [
    "x = make_set_covering_problem(num_points = num_points,num_sets= num_sets, density=density)\n",
    "\n",
    "def check_problem_solvable(sets : sparse.lil_array, num_points):\n",
    "    \"\"\"Returns True if the problem is solvable, False otherwise\"\"\"  \n",
    "    #sets = sets.toarray()  \n",
    "    current = reduce(np.logical_or, [sets[i] for i in range(sets.shape[0]) ], np.array([False for _ in range(num_points)]) )   \n",
    "    return np.all(current)\n",
    "        \n",
    "assert check_problem_solvable(x,num_points) == True , \"The problem is not solvable\""
   ]
  },
  {
   "cell_type": "markdown",
   "metadata": {},
   "source": [
    "# Hill Climbing"
   ]
  },
  {
   "cell_type": "code",
   "execution_count": 52,
   "metadata": {},
   "outputs": [],
   "source": [
    "def tweak_hill_climbing(current_state : np.array,sets : np.array) -> np.array:  #this approach favor the exploitation \n",
    "    state = current_state.copy()\n",
    "    min_convered = (np.sum([sets[i] for i in state])).argmin()\n",
    "    adding = randint(1,3)\n",
    "    for i in range(state.shape[0]):  #to avoid duplicates in the state\n",
    "        index = randint(0, sets.shape[0]-1)\n",
    "        if index in state:\n",
    "            continue\n",
    "        else : \n",
    "            adding -= 1\n",
    "            if adding == 0:\n",
    "                state[min_convered] = index\n",
    "            else :\n",
    "                state = np.append(state,index)\n",
    "                break     \n",
    "    return state\n",
    "\n",
    "def covering(state : np.array\n",
    "             ,sets : np.array\n",
    "             ) : \n",
    "    \"\"\"Returns the number of points covered by the given state\"\"\"\n",
    "    current = reduce(np.logical_or, [sets[i] for i in state ], np.array([False for _ in range(sets.shape[0])]) )\n",
    "    return np.sum(current) , 0\n",
    "\n",
    "def covering_and_num_sets(state : np.array\n",
    "             ,sets : np.array\n",
    "             ): \n",
    "    current = reduce(np.logical_or, [sets[i] for i in state], np.array([False for _ in range(sets.shape[0])]) )\n",
    "    return np.sum(current), len(state)\n",
    "\n",
    "fitness = covering_and_num_sets"
   ]
  },
  {
   "cell_type": "code",
   "execution_count": 53,
   "metadata": {},
   "outputs": [],
   "source": [
    "def tweak_hill_climbing_exploration(current_state : np.array,sets : np.array) -> np.array:  #this approach favor the exploration \n",
    "    state :np.array = current_state.copy()\n",
    "    min_convered = (np.sum([sets[i] for i in state])).argmin()\n",
    "    state = np.delete(state, min_convered)\n",
    "    adding = randint(1, 5)\n",
    "    added = 0\n",
    "\n",
    "    for _ in range(state.shape[0]):  \n",
    "        index = randint(0, sets.shape[0]-1)\n",
    "        if index in state:\n",
    "            continue\n",
    "        else : \n",
    "            state = np.append(state, index)\n",
    "            added += 1\n",
    "        if added == adding:\n",
    "                break        \n",
    "    return state"
   ]
  },
  {
   "cell_type": "code",
   "execution_count": 54,
   "metadata": {},
   "outputs": [
    {
     "name": "stderr",
     "output_type": "stream",
     "text": [
      "9it [00:00, 9048.12it/s]"
     ]
    },
    {
     "name": "stdout",
     "output_type": "stream",
     "text": [
      "Sub optimal solution  9 sets with  (100, 9) / 100  points covered doing  fitness called 8 times\n"
     ]
    },
    {
     "name": "stderr",
     "output_type": "stream",
     "text": [
      "\n"
     ]
    }
   ],
   "source": [
    "inferior_limit = ceil(num_sets/500)\n",
    "superior_limit = ceil(num_sets /100)\n",
    "number_of_sets = randint(inferior_limit,superior_limit)\n",
    "changes = 0\n",
    "#crete number_of_sets indexes to take from the sets, withput duplicates\n",
    "original_state =np.array(list(set([randint(0, num_sets) for _ in range(number_of_sets)])))\n",
    "state = original_state.copy()\n",
    "current_ev = None\n",
    "with tqdm(total=None) as pbar:\n",
    "    for i in range(set_threashold): \n",
    "        if current_ev and current_ev == num_points:\n",
    "            break\n",
    "        current_ev , nc_sets = fitness(state,x)\n",
    "        next_state = tweak_hill_climbing(state,x)\n",
    "        next_ev , nn_sets = fitness(next_state,x)\n",
    "        if next_ev > current_ev or (next_ev == current_ev and nn_sets < nc_sets):\n",
    "            state = next_state\n",
    "            changes +=1\n",
    "        pbar.update(1)\n",
    "print(\"Sub optimal solution \", len(state) , \"sets with \", fitness(state,x), \"/\", num_points ,\" points covered doing \", \"fitness called\", i-1, \"times\")\n",
    "#print(reduce(np.logical_or, [x[i] for i in state ], np.array([False for _ in range(num_points)])))"
   ]
  },
  {
   "cell_type": "code",
   "execution_count": 55,
   "metadata": {},
   "outputs": [
    {
     "name": "stderr",
     "output_type": "stream",
     "text": [
      "50it [00:00, 15003.23it/s]"
     ]
    },
    {
     "name": "stdout",
     "output_type": "stream",
     "text": [
      "Sub optimal solution  1 sets with  (32, 1) / 100  points covered doing  49  iteration\n"
     ]
    },
    {
     "name": "stderr",
     "output_type": "stream",
     "text": [
      "\n"
     ]
    }
   ],
   "source": [
    "changes = 0\n",
    "#crete number_of_sets indexes to take from the sets, withput duplicates\n",
    "state = original_state.copy()\n",
    "current_ev = None\n",
    "\n",
    "with tqdm(total=None) as pbar:\n",
    "    for i in range(set_threashold): \n",
    "        if current_ev and current_ev == num_points:\n",
    "            break\n",
    "        current_ev, nc_sets = fitness(state,x)\n",
    "        next_state = tweak_hill_climbing_exploration(state,x)\n",
    "        next_ev, nn_sets = fitness(next_state,x)\n",
    "        if next_ev > current_ev or (next_ev == current_ev and nn_sets < nc_sets):\n",
    "            state = next_state\n",
    "            changes +=1\n",
    "        pbar.update(1)\n",
    "print(\"Sub optimal solution \", len(state) , \"sets with \", fitness(state,x), \"/\", num_points ,\" points covered doing \", i, \" iteration\")\n",
    "#print(reduce(np.logical_or, [x[i] for i in state ], np.array([False for _ in range(num_points)])))"
   ]
  },
  {
   "cell_type": "markdown",
   "metadata": {},
   "source": [
    "# Simulated Annealing\n",
    "accept also worse solution trying to go to a global optimum"
   ]
  },
  {
   "cell_type": "code",
   "execution_count": 56,
   "metadata": {},
   "outputs": [
    {
     "name": "stdout",
     "output_type": "stream",
     "text": [
      "1\n"
     ]
    },
    {
     "name": "stderr",
     "output_type": "stream",
     "text": [
      "7it [00:00, 4831.35it/s]"
     ]
    },
    {
     "name": "stdout",
     "output_type": "stream",
     "text": [
      "Sub optimal solution  14 sets with  (100, 14) / 100  points covered doing  [3 2]  changes_up and  7 iteration\n"
     ]
    },
    {
     "name": "stderr",
     "output_type": "stream",
     "text": [
      "\n"
     ]
    }
   ],
   "source": [
    "\n",
    "def exponential_cooling(initial_temperature, cooling_rate, iteration):\n",
    "    \"\"\"\n",
    "    Exponential cooling schedule for Simulated Annealing.\n",
    "    \n",
    "    :param initial_temperature: Initial temperature.\n",
    "    :param cooling_rate: Rate at which temperature decreases (between 0 and 1).\n",
    "    :param iteration: Current iteration.\n",
    "    :return: Current temperature.\n",
    "    \"\"\"\n",
    "    return initial_temperature * (cooling_rate ** iteration)\n",
    "    #return initial_temperature * cooling_rate\n",
    "\n",
    "def simulated_annealing(current_cost : int, new_cost : int , temp : float) -> bool: \n",
    "    try :\n",
    "        value = exp(-(current_cost-new_cost)/temp) if temp != 0 else exp(-(current_cost-new_cost)/ float('inf'))\n",
    "        rand = random()\n",
    "        #print(\"value\", value, \"rand\", rand)\n",
    "        if rand < value : \n",
    "            return True\n",
    "        return False\n",
    "    except OverflowError:\n",
    "        return False\n",
    "\n",
    "\n",
    "def tweak_simulated_annealing(current_state : np.array, sets : np.array) -> np.array: \n",
    "    \"\"\"Returns a neighbor of the given state\"\"\"\n",
    "    state = current_state.copy()\n",
    "    #add a random number of sets \n",
    "    #remove a random number of sets\n",
    "    to_add = randint(1, 5)\n",
    "    to_remove = randint(1, 5) \n",
    "    #print(\"to_add\",to_add,\"to_remove\", to_remove)     \n",
    "    added = 0\n",
    "    removed = 0\n",
    "    for _ in range(state.shape[0]):\n",
    "        set_ = randint(0, sets.shape[0]-1)\n",
    "        if set_ in state and removed < to_remove:\n",
    "            removed+=1\n",
    "            state = np.delete(state, np.where(state == set_))\n",
    "        elif set_ not in state and added < to_add :\n",
    "            state = np.append(state, set_)\n",
    "            added += 1\n",
    "        if added == to_add and removed == to_remove:\n",
    "            break\n",
    "    #print(\"previous :\", len(current_state), \"current :\", len(state))\n",
    "    return state\n",
    "            \n",
    "\n",
    "temperature = 10 #higher value -> exploration #lowe value -> exploitation \n",
    "cooling_rate = 0.95 \n",
    "state = original_state.copy()\n",
    "changes_up = np.zeros(set_threashold, dtype=int)\n",
    "changes_down = 0\n",
    "print(len(state))\n",
    "current_ev = None\n",
    "with tqdm(total=None) as pbar:\n",
    "    for iteration in range(set_threashold): \n",
    "        if current_ev and current_ev == num_points:\n",
    "            break\n",
    "        current_ev , nc_sets = fitness(state,x)\n",
    "        next_state = tweak_simulated_annealing(state,x)\n",
    "        next_ev , nn_sets = fitness(next_state,x)\n",
    "        temperature=exponential_cooling(temperature,cooling_rate,iteration)\n",
    "        if next_ev> current_ev or (next_ev == current_ev and nn_sets < nc_sets): \n",
    "            state=next_state \n",
    "            changes_up[changes_down] +=1\n",
    "        elif next_ev< current_ev  and simulated_annealing(current_ev,next_ev, temperature):\n",
    "            #print(\"annealing\")\n",
    "            state = next_state\n",
    "            changes_down +=1\n",
    "        pbar.update(1)\n",
    "print(\"Sub optimal solution \", len(state) , \"sets with \", fitness(state,x), \"/\", num_points ,\" points covered doing \", changes_up[0:changes_down+1], \" changes_up and \" , iteration , \"iteration\")"
   ]
  },
  {
   "cell_type": "markdown",
   "metadata": {},
   "source": [
    "# Tabu search"
   ]
  },
  {
   "cell_type": "code",
   "execution_count": 57,
   "metadata": {},
   "outputs": [
    {
     "name": "stderr",
     "output_type": "stream",
     "text": [
      "10it [00:00, 10015.05it/s]"
     ]
    },
    {
     "name": "stdout",
     "output_type": "stream",
     "text": [
      "Sub optimal solution  13 sets with  (100, 13) / 100  points covered doing  10  iteration\n"
     ]
    },
    {
     "name": "stderr",
     "output_type": "stream",
     "text": [
      "\n"
     ]
    }
   ],
   "source": [
    "def tweak_tabu_search(state : np.array, sets: np.array, tabu_list : list): \n",
    "    \"\"\"Returns a neighbor of the given state\"\"\"\n",
    "    current_state = state.copy()\n",
    "    #add a one random set\n",
    "    min_convered = (np.sum([sets[i] for i in state])).argmin() \n",
    "    adding = randint(1,2)\n",
    "    current_state = np.delete(current_state, min_convered)\n",
    "    for i in range(sets.shape[0]):  #to avoid duplicates in the state\n",
    "        set_ = randint(0, sets.shape[0]-1)\n",
    "        if set_ in state:\n",
    "            continue\n",
    "        else : \n",
    "            tmp = np.append(state,set_)        \n",
    "\n",
    "            if vector_in_list(tmp, tabu_list):\n",
    "                #print(\"already visited\")\n",
    "                continue\n",
    "            else :\n",
    "                adding -= 1\n",
    "                state = np.append(state,set_)\n",
    "                if adding == 0:\n",
    "                    break     \n",
    "    return state\n",
    "        \n",
    "def vector_in_list(vector : np.array, list_ : list) -> bool:\n",
    "    for v in list_:\n",
    "        if np.array_equal(v, vector):\n",
    "            print(\"vector\")\n",
    "            return True\n",
    "    return False   \n",
    "    \n",
    "\n",
    "state = original_state.copy()\n",
    "tabu_list = [state]\n",
    "tabu_list_limit = 150 \n",
    "current_ev = None\n",
    "with tqdm(total=None) as pbar:\n",
    "    for iteration in range(set_threashold): \n",
    "        if current_ev and current_ev == num_points:\n",
    "            break\n",
    "        current_ev, nc_sets = fitness(state,x)\n",
    "        next_state = tweak_tabu_search(state,x,tabu_list)\n",
    "        next_ev, nn_sets = fitness(next_state,x)\n",
    "        if next_ev> current_ev or (next_ev == current_ev and nn_sets < nc_sets): \n",
    "            state=next_state \n",
    "            tabu_list.append(next_state)\n",
    "        if len(tabu_list) > tabu_list_limit : \n",
    "            tabu_list.pop(0)\n",
    "        pbar.update(1)\n",
    "print(\"Sub optimal solution \", len(state) , \"sets with \", fitness(state,x), \"/\", num_points ,\" points covered doing \", iteration, \" iteration\")\n"
   ]
  },
  {
   "cell_type": "markdown",
   "metadata": {},
   "source": [
    "# Iterated Local Search"
   ]
  },
  {
   "cell_type": "code",
   "execution_count": 58,
   "metadata": {},
   "outputs": [
    {
     "name": "stderr",
     "output_type": "stream",
     "text": [
      "14it [00:00, 14041.19it/s]"
     ]
    },
    {
     "name": "stdout",
     "output_type": "stream",
     "text": [
      "Sub optimal solution  13 sets with  (100, 13) / 100  points covered doing  14  iteration\n"
     ]
    },
    {
     "name": "stderr",
     "output_type": "stream",
     "text": [
      "\n"
     ]
    }
   ],
   "source": [
    "def new_starting_position(global_ : np.array, last_ : np.array):\n",
    "    number_of_sets = randint(ceil(len(last_)/2),ceil(len(last_)))\n",
    "    new_state = []\n",
    "    for i in range(number_of_sets):\n",
    "        new_state.append(randint(0, global_.shape[0]-1))\n",
    "    return np.array(list(set(new_state)))\n",
    "        \n",
    "\n",
    "            \n",
    "\n",
    "def tweak_iterated_local(current_state : np.array, sets: np.array):\n",
    "    state = current_state.copy()\n",
    "    min_convered = (np.sum([sets[i] for i in state])).argmin()\n",
    "    adding = randint(1,2)\n",
    "    for i in range(state.shape[0]):  #to avoid duplicates in the state\n",
    "        index = randint(0, sets.shape[0]-1)\n",
    "        if index in state:\n",
    "            continue\n",
    "        else : \n",
    "            adding -= 1\n",
    "            if adding == 0:\n",
    "                state[min_convered] = index\n",
    "            else :\n",
    "                state = np.append(state,index)\n",
    "                break     \n",
    "    return state\n",
    "\n",
    "\n",
    "state = original_state.copy()\n",
    "best_ev, nb_sets = fitness(state,x)\n",
    "best_state = state.copy()\n",
    "not_better = 0\n",
    "threashold_not_better = ceil(set_threashold/10)\n",
    "current_ev = 0\n",
    "with tqdm(total=None) as pbar:\n",
    "    for iteration in range(set_threashold): \n",
    "        if current_ev and current_ev == num_points:\n",
    "            break\n",
    "        if not_better >= threashold_not_better:\n",
    "            #print(\"new starting position aftern not_better iterations\" , not_better)\n",
    "            #print(\"best_ev\", best_ev, \"nb_sets\", nb_sets)\n",
    "            state = new_starting_position(x ,state )\n",
    "            not_better = 0\n",
    "        \n",
    "        current_ev, nc_sets = fitness(state,x)\n",
    "        next_state = tweak_iterated_local(state,x)\n",
    "        next_ev, nn_sets = fitness(next_state,x)\n",
    "        if next_ev> current_ev or (next_ev == current_ev and nn_sets < nc_sets): \n",
    "            state=next_state \n",
    "            tabu_list.append(next_state)\n",
    "            not_better = 0\n",
    "        if best_ev < next_ev or (next_ev == best_ev and nn_sets < nb_sets):\n",
    "            best_state = next_state.copy()\n",
    "            best_ev = next_ev\n",
    "            nb_sets = nn_sets\n",
    "            not_better = 0\n",
    "\n",
    "        if next_ev <= current_ev:\n",
    "            not_better +=1\n",
    "\n",
    "        \n",
    "        pbar.update(1)\n",
    "print(\"Sub optimal solution \", len(best_state) , \"sets with \", fitness(best_state,x), \"/\", num_points ,\" points covered doing \", iteration, \" iteration\")\n"
   ]
  },
  {
   "cell_type": "code",
   "execution_count": 59,
   "metadata": {},
   "outputs": [
    {
     "name": "stdout",
     "output_type": "stream",
     "text": [
      "+-----------+---------+---------------+---------------+\n",
      "| Parameter | Density | Solution Size | Fitness Calls |\n",
      "+-----------+---------+---------------+---------------+\n",
      "|    100    |   0.3   |      11       |       9       |\n",
      "|    100    |   0.7   |       6       |       2       |\n",
      "|   1000    |   0.3   |      17       |      26       |\n",
      "|   1000    |   0.7   |       7       |       5       |\n",
      "|   5000    |   0.3   |      20       |      17       |\n",
      "|   5000    |   0.7   |       8       |       4       |\n",
      "+-----------+---------+---------------+---------------+\n"
     ]
    }
   ],
   "source": [
    "num_points = [100, 1_000, 5_000]\n",
    "density = [.3,.7]\n",
    "\n",
    "  #number of iteration \n",
    "\n",
    "record = []\n",
    "for size in num_points:\n",
    "    for dens in density : \n",
    "        inferior_limit = ceil(1)\n",
    "        superior_limit = ceil(5)\n",
    "        number_of_sets = randint(inferior_limit,superior_limit)\n",
    "        set_threashold = ceil(size/2)\n",
    "        problem = make_set_covering_problem(num_points = size,num_sets= size, density=dens)   \n",
    "        original_state =np.array(list(set([randint(0, number_of_sets) for _ in range(size)])))\n",
    "\n",
    "        state = original_state.copy()\n",
    "        current_ev = None\n",
    "        for i in range(set_threashold): \n",
    "            if current_ev and current_ev == size:\n",
    "                break\n",
    "            current_ev , nc_sets = fitness(state,problem)\n",
    "            next_state = tweak_hill_climbing(state,problem)\n",
    "            next_ev , nn_sets = fitness(next_state,problem)\n",
    "            if next_ev > current_ev or (next_ev == current_ev and nn_sets < nc_sets):\n",
    "                state = next_state\n",
    "        record.append([size , dens, len(state), i])\n",
    "\n",
    "headers = [\"Parameter\", \"Density\", \"Solution Size\", \"Fitness Calls\"]\n",
    "print(tabulate(record, headers, tablefmt=\"pretty\"))\n",
    "\n",
    "\n",
    "record = []\n",
    "for size in num_points:\n",
    "    for dens in density : \n",
    "        inferior_limit = ceil(1)\n",
    "        superior_limit = ceil(5)\n",
    "        number_of_sets = randint(inferior_limit,superior_limit)\n",
    "        set_threashold = ceil(size/2)\n",
    "        problem = make_set_covering_problem(num_points = size,num_sets= size, density=dens)   \n",
    "        original_state =np.array(list(set([randint(0, number_of_sets) for _ in range(size)])))\n",
    "\n",
    "        state = original_state.copy()\n",
    "        current_ev = None\n",
    "        for i in range(set_threashold): \n",
    "            if current_ev and current_ev == size:\n",
    "                break\n",
    "            current_ev , nc_sets = fitness(state,problem)\n",
    "            next_state = tweak_hill_climbing_exploration(state,problem)\n",
    "            next_ev , nn_sets = fitness(next_state,problem)\n",
    "            if next_ev > current_ev or (next_ev == current_ev and nn_sets < nc_sets):\n",
    "                state = next_state\n",
    "        record.append([size , dens, len(state), i])\n",
    "\n",
    "headers = [\"Parameter\", \"Density\", \"Solution Size\", \"Fitness Calls\"]\n",
    "print(tabulate(record, headers, tablefmt=\"pretty\"))\n",
    "\n",
    "        "
   ]
  }
 ],
 "metadata": {
  "kernelspec": {
   "display_name": ".venv_CI",
   "language": "python",
   "name": "python3"
  },
  "language_info": {
   "codemirror_mode": {
    "name": "ipython",
    "version": 3
   },
   "file_extension": ".py",
   "mimetype": "text/x-python",
   "name": "python",
   "nbconvert_exporter": "python",
   "pygments_lexer": "ipython3",
   "version": "3.11.6"
  }
 },
 "nbformat": 4,
 "nbformat_minor": 2
}
