{
 "cells": [
  {
   "cell_type": "markdown",
   "metadata": {},
   "source": [
    "### Set cover problem \n",
    "\n",
    "Given a set of elements {1, 2, …, n} (called the universe) and a collection S of m subsets whose union equals the universe, the set cover problem is to identify the smallest sub-collection of S whose union equals the universe.Given a set of elements {1, 2, …, n} (called the universe) and a collection S of m subsets whose union equals the universe, the set cover problem is to identify the smallest sub-collection of S whose union equals the universe."
   ]
  },
  {
   "cell_type": "code",
   "execution_count": 406,
   "metadata": {},
   "outputs": [],
   "source": [
    "from random import random, choice, randint\n",
    "from functools import reduce\n",
    "from collections import namedtuple\n",
    "from queue import PriorityQueue, SimpleQueue, LifoQueue\n",
    "from copy import  copy\n",
    "from math import ceil \n",
    "import numpy as np\n",
    "from tqdm.auto import tqdm"
   ]
  },
  {
   "cell_type": "markdown",
   "metadata": {},
   "source": [
    "### Setting problem parameters"
   ]
  },
  {
   "cell_type": "code",
   "execution_count": 424,
   "metadata": {},
   "outputs": [],
   "source": [
    "PROBLEM_SIZE  = 8 #elements to cover\n",
    "NUM_SETS = 5\n",
    "SETS =  tuple(np.array([random() < 0.3 for _ in range(PROBLEM_SIZE)])  for _ in range(NUM_SETS) )\n",
    "    #the value True means that the set contains the element\n",
    "    #we randomly create NUM_SETS sets of PROBLEM_SIZE elements (True/False)\\\n",
    "\n",
    "#print('Problem size:', SETS)\n",
    "State = namedtuple('State', ['taken', 'not_taken'])"
   ]
  },
  {
   "cell_type": "code",
   "execution_count": 425,
   "metadata": {},
   "outputs": [],
   "source": [
    "#Function to check all the elements are covered\n",
    "\n",
    "def goal_check(state):\n",
    "    return np.all(covered(state))\n",
    "\n",
    "def covered(state):\n",
    "    return reduce(\n",
    "        np.logical_or,\n",
    "        [SETS[i] for i in state.taken],\n",
    "        np.array([False for _ in range(PROBLEM_SIZE)]),\n",
    "    )\n",
    "\n",
    "assert goal_check( ##check if taking all sets a solution exists\n",
    "    State(set(range(NUM_SETS)), set())\n",
    "), \"Probelm not solvable\""
   ]
  },
  {
   "cell_type": "markdown",
   "metadata": {},
   "source": [
    "## A* algorithm\n",
    "The heuristic function should be always optimistic and respect some constraint to provide the best solution. "
   ]
  },
  {
   "cell_type": "code",
   "execution_count": 409,
   "metadata": {},
   "outputs": [],
   "source": [
    "#using the distance from the goal as a heuristic\n",
    "def heuristic1(state):\n",
    "    return PROBLEM_SIZE - len(state.taken)\n",
    "\n",
    "#This heuristic does not provide always the best solution. Indeed it is not admissible.\n",
    "#I tried many different run using the breadth-first to find the minimun number of sets to reach the goal \n",
    "#and not always this heuristic provides the best solution."
   ]
  },
  {
   "cell_type": "code",
   "execution_count": 442,
   "metadata": {},
   "outputs": [],
   "source": [
    "#find an optimistic solution \n",
    "#i take dynamically the sets with the most elements covered\n",
    "#how many max sets are necessary to cover all the current uncovered elements? \n",
    "\n",
    "def heuristic2(state : State):\n",
    "    already_covered = covered(state) \n",
    "    if np.all(already_covered):\n",
    "        return 0\n",
    "    not_already_covered = np.logical_not(already_covered)   \n",
    "    max_val = max(sum(np.logical_and(SETS[i], not_already_covered)) for i in state.not_taken)\n",
    "    #max_val is the maximum number of uncovered element covered by a single element in the not_taken group\n",
    "    return ceil(sum(not_already_covered)/max_val) if max_val!= 0 else PROBLEM_SIZE\n",
    "    "
   ]
  },
  {
   "cell_type": "code",
   "execution_count": 439,
   "metadata": {},
   "outputs": [],
   "source": [
    "#define the heuristic to use\n",
    "heuristic = heuristic2\n",
    "\n",
    "\n",
    "def actual_cost(state): \n",
    "    return len(state.taken)\n",
    "\n",
    "def a_star(state): \n",
    "    return actual_cost(state) + heuristic(state)"
   ]
  },
  {
   "cell_type": "code",
   "execution_count": 440,
   "metadata": {},
   "outputs": [
    {
     "name": "stderr",
     "output_type": "stream",
     "text": [
      "3it [00:00, 3000.93it/s]"
     ]
    },
    {
     "name": "stdout",
     "output_type": "stream",
     "text": [
      "current_state taken :  {0} weight :  2\n",
      "current_state taken :  {1} weight :  3\n",
      "current_state taken :  {2} weight :  2\n",
      "current_state taken :  {3} weight :  3\n",
      "current_state taken :  {4} weight :  3\n",
      "Next step\n",
      "current_state taken :  {0} weight :  2\n",
      "current_state taken :  {0, 1} weight :  3\n",
      "current_state taken :  {0, 2} weight :  2\n",
      "current_state taken :  {0, 3} weight :  3\n",
      "current_state taken :  {0, 4} weight :  3\n",
      "Next step\n",
      "current_state taken :  {2} weight :  2\n",
      "current_state taken :  {0, 2} weight :  2\n",
      "current_state taken :  {1, 2} weight :  3\n",
      "current_state taken :  {2, 3} weight :  3\n",
      "current_state taken :  {2, 4} weight :  3\n",
      "Next step\n",
      "current_state taken :  {0, 2} weight :  2\n",
      "Solution found in 3 steps and 2 tiles\n",
      "Final state: {0, 2}\n"
     ]
    },
    {
     "name": "stderr",
     "output_type": "stream",
     "text": [
      "\n"
     ]
    }
   ],
   "source": [
    "frontier = PriorityQueue()\n",
    "state = State(set(), set(range(NUM_SETS)))\n",
    "\n",
    "frontier.put((a_star(state), state))\n",
    "\n",
    "steps = 0\n",
    "weight , current_state = frontier.get()\n",
    "\n",
    "with tqdm(total=None) as pbar: \n",
    "    while not goal_check(current_state): \n",
    "        steps += 1\n",
    "        for action in current_state.not_taken:\n",
    "            new_state = State(\n",
    "                current_state.taken ^ {action},\n",
    "                current_state.not_taken ^ {action},\n",
    "            )\n",
    "            frontier.put((a_star(new_state), new_state))\n",
    "            #print(\"current_state taken : \" , new_state.taken, \"weight : \", a_star(new_state))\n",
    "        weight, current_state = frontier.get()\n",
    "        #print(\"Next step\")\n",
    "        #print(\"current_state taken : \" , current_state.taken, \"weight : \", weight)\n",
    "        pbar.update(1)\n",
    "\n",
    "print(f'Solution found in {steps} steps and {len(current_state.taken)} tiles')\n",
    "print(f'Final state: {current_state.taken}')\n"
   ]
  }
 ],
 "metadata": {
  "kernelspec": {
   "display_name": ".venv_CI",
   "language": "python",
   "name": "python3"
  },
  "language_info": {
   "codemirror_mode": {
    "name": "ipython",
    "version": 3
   },
   "file_extension": ".py",
   "mimetype": "text/x-python",
   "name": "python",
   "nbconvert_exporter": "python",
   "pygments_lexer": "ipython3",
   "version": "3.11.6"
  }
 },
 "nbformat": 4,
 "nbformat_minor": 2
}
